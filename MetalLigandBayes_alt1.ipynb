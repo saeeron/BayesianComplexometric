{
  "nbformat": 4,
  "nbformat_minor": 0,
  "metadata": {
    "colab": {
      "name": "MetalLigandBayes_alt1.ipynb",
      "provenance": [],
      "collapsed_sections": [],
      "authorship_tag": "ABX9TyMQOtHBJvVnlGI03x4V5rxO"
    },
    "kernelspec": {
      "name": "python3",
      "display_name": "Python 3"
    }
  },
  "cells": [
    {
      "cell_type": "markdown",
      "metadata": {
        "id": "r49QHaW-SadZ"
      },
      "source": [
        "# Bayesian Inversion of Complexometric Data\r\n",
        "### Equilibrium Reactions: \r\n",
        "\r\n",
        "$$M_f + L_1  \\leftrightarrow ML_1$$\r\n",
        "$$M_f + L_2 \\leftrightarrow ML_2 $$ \r\n",
        "\r\n",
        "\r\n",
        "\r\n",
        "### Geoverning Equations: \r\n",
        "\r\n",
        "$$K_1 = \\frac{[ML_1]}{[M_f][L_1']} $$\r\n",
        "$$K_2 = \\frac{[ML_2]}{[M_f][L_2']} $$\r\n",
        "\r\n",
        "$$ [L_{1}]_T = [L_1'] + [ML_1] $$\r\n",
        "$$ [L_{2}]_T = [L_2'] + [ML_2] $$\r\n",
        "\r\n",
        "$$ \\alpha_{inorg}  = \\frac{[M_{inorg}]  + [M_f]}{[M_f]}  = \\frac{[M']}{[M_f]} $$\r\n",
        "$$ [M_T] = \\Sigma [ML_i] + [M'] $$\r\n"
      ]
    },
    {
      "cell_type": "code",
      "metadata": {
        "id": "CS4GoBSphP31"
      },
      "source": [
        "import numpy as np \r\n",
        "from scipy.optimize import root, root_scalar, fsolve, brentq\r\n",
        "from scipy.integrate import simps\r\n",
        "from scipy.linalg import block_diag, det, eig\r\n",
        "from scipy import stats as st\r\n",
        "import matplotlib.pyplot as plt\r\n",
        "import seaborn as sns\r\n",
        "from scipy.optimize import dual_annealing \r\n",
        "from functools import partial\r\n"
      ],
      "execution_count": null,
      "outputs": []
    },
    {
      "cell_type": "code",
      "metadata": {
        "id": "ZX1DinqYICCV"
      },
      "source": [
        "def SpecForwardModel_2L(MT, LT, K):\r\n",
        "  # this fnction calclates M_free using a scalar root finding \r\n",
        "  # LT is an array of [L1T, L2T]\r\n",
        "  # K is an array of [K1, K2]\r\n",
        "  LT = LT / 1e9 # converting nano Molar to Molar\r\n",
        "  MT = MT / 1e9 # converting nano Molar to Molar\r\n",
        "  ligType = LT.size\r\n",
        "  \r\n",
        "  def objf(X): \r\n",
        "    # scalar function to be solved for the roots (M_free) \r\n",
        "    ML1 = (K[0]*LT[0]*X/1e9) / (1+K[0]*X/1e9)\r\n",
        "    ML2 = (K[1]*LT[1]*X/1e9) / (1+K[1]*X/1e9)\r\n",
        "    return (MT - ML1 - ML2 - X/1e9) \r\n",
        "  \r\n",
        "  initGuess = 10**(np.linspace(-12,3,100))\r\n",
        "  sol = []\r\n",
        "  for i in range(initGuess.size - 1):\r\n",
        "    try:\r\n",
        "      sol.append(brentq(objf, initGuess[i], initGuess[i+1], maxiter=100))\r\n",
        "    except ValueError:\r\n",
        "      sol.append(np.nan)\r\n",
        "  \r\n",
        "  \r\n",
        "  return np.nanmin(np.array(sol))\r\n",
        "\r\n",
        "def TitrSimulate_2L(MT, LT, K): \r\n",
        "  \r\n",
        "  return np.array([SpecForwardModel_2L(mt, LT, K) for mt in MT])\r\n",
        " "
      ],
      "execution_count": null,
      "outputs": []
    },
    {
      "cell_type": "code",
      "metadata": {
        "id": "cySWk99pbNTT"
      },
      "source": [
        "LT = np.array([2, 10])\r\n",
        "K = np.array([1e14, 1e12])\r\n",
        "MT_ = np.linspace(0.1,6,12); \r\n",
        "y_ = TitrSimulate_2L(MT_,LT, K)\r\n",
        "y_obs = y_ + y_*0.03*np.random.normal(0,1,MT_.size)"
      ],
      "execution_count": null,
      "outputs": []
    },
    {
      "cell_type": "code",
      "metadata": {
        "colab": {
          "base_uri": "https://localhost:8080/",
          "height": 226
        },
        "id": "zZPcxgUJp9Lj",
        "outputId": "71a61ec5-3e5c-44b7-b454-4ad4b66c1121"
      },
      "source": [
        "plt.figure(figsize=[4 , 3])\r\n",
        "\r\n",
        "plt.scatter(MT_, y_)\r\n",
        "plt.scatter(MT_,y_obs)\r\n",
        "plt.legend(['modeled','modeled + noise'])\r\n",
        "plt.xlabel('total Metal [nM]')\r\n",
        "plt.ylabel('free Metal [nM]')\r\n",
        "\r\n",
        "\r\n",
        "plt.show()"
      ],
      "execution_count": null,
      "outputs": [
        {
          "output_type": "display_data",
          "data": {
            "image/png": "[encoded data removed]",
            "text/plain": [
              "<Figure size 288x216 with 1 Axes>"
            ]
          },
          "metadata": {
            "tags": [],
            "needs_background": "light"
          }
        }
      ]
    },
    {
      "cell_type": "code",
      "metadata": {
        "id": "1dyG9NtGZc-Y",
        "colab": {
          "base_uri": "https://localhost:8080/",
          "height": 171
        },
        "outputId": "a93e473c-96ef-4776-96a5-1151da4df363"
      },
      "source": [
        "def lik( y_obs, Mt, X, relative_err = 0.03):\n",
        "  # using analytical definition of normal distribution\n",
        "  LT = X[:2]\n",
        "  K = X[2:]\n",
        "  y_ = TitrSimulate_2L(Mt, LT, K)\n",
        "\n",
        "  mu = y_ - y_obs  \n",
        "\n",
        "  cov_inv = np.diag( 1 / (y_obs * relative_err)**2) #  relative_error = 0.1 means raw y_obs can be between its 80 to 125 %\n",
        "  \n",
        "  resExp = np.matmul(mu.reshape(1,-1), np.matmul(cov_inv, mu.reshape(-1,1)))\n",
        "  \n",
        "  # tmp = 10**20 # scale to avoid underflow \n",
        "  return  ((2*np.pi)**(- y_obs.size /2)) * (det(cov_inv) ** -0.5) * np.exp(-0.5 * resExp.item())\n",
        "\n",
        "def target(lik , y_obs, prior, Mt, X): \n",
        "  LT = X[:2]\n",
        "  K = X[2:]\n",
        "  return lik( y_obs, Mt, X) * prior[0].pdf(LT[0]) * prior[1].pdf(LT[1]) * prior[2].pdf(np.log10(K[0])) * prior[3].pdf(np.log10(K[1]))\n",
        "\"\"\"\n",
        "def lik_ratio(y_obs, prior, Mt, X_p, X_0, relative_err = 0.03):\n",
        " \n",
        "  y_p = np.log10(TitrSimulate(Mt, X_p[0], X_p[1])[:,1])\n",
        "  y_0 = np.log10(TitrSimulate(Mt, X_0[0], X_0[1])[:,1])\n",
        "  y_obs = np.log10(y_obs)\n",
        "  \n",
        "  mu_p = y_p - y_obs\n",
        "  mu_0 = y_0 - y_obs\n",
        "\n",
        "  cov_inv = np.diag(np.ones_like(Mt) /(relative_err**2)) #  relative_error = 0.1 means raw y_obs can be between its 80 to 125 %\n",
        "  \n",
        "  resExp_p = np.matmul(mu_p.reshape(1,-1), np.matmul(cov_inv, mu_p.reshape(-1,1)))\n",
        "  \n",
        "  resExp_0 = np.matmul(mu_0.reshape(1,-1), np.matmul(cov_inv, mu_0.reshape(-1,1)))\n",
        "  \n",
        "  prr = prior[0].pdf(X_p[0]) * prior[1].pdf(np.log10(X_p[1])) / prior[0].pdf(X_0[0]) / prior[1].pdf(np.log10(X_0[1]))\n",
        "\n",
        "  return np.array([np.exp(-0.5 * (resExp_p.item() - resExp_0.item())) * prr]) \n",
        "\"\"\"\n",
        "\n"
      ],
      "execution_count": null,
      "outputs": [
        {
          "output_type": "execute_result",
          "data": {
            "application/vnd.google.colaboratory.intrinsic+json": {
              "type": "string"
            },
            "text/plain": [
              "'\\ndef lik_ratio(y_obs, prior, Mt, X_p, X_0, relative_err = 0.03):\\n \\n  y_p = np.log10(TitrSimulate(Mt, X_p[0], X_p[1])[:,1])\\n  y_0 = np.log10(TitrSimulate(Mt, X_0[0], X_0[1])[:,1])\\n  y_obs = np.log10(y_obs)\\n  \\n  mu_p = y_p - y_obs\\n  mu_0 = y_0 - y_obs\\n\\n  cov_inv = np.diag(np.ones_like(Mt) /(relative_err**2)) #  relative_error = 0.1 means raw y_obs can be between its 80 to 125 %\\n  \\n  resExp_p = np.matmul(mu_p.reshape(1,-1), np.matmul(cov_inv, mu_p.reshape(-1,1)))\\n  \\n  resExp_0 = np.matmul(mu_0.reshape(1,-1), np.matmul(cov_inv, mu_0.reshape(-1,1)))\\n  \\n  prr = prior[0].pdf(X_p[0]) * prior[1].pdf(np.log10(X_p[1])) / prior[0].pdf(X_0[0]) / prior[1].pdf(np.log10(X_0[1]))\\n\\n  return np.array([np.exp(-0.5 * (resExp_p.item() - resExp_0.item())) * prr]) \\n'"
            ]
          },
          "metadata": {
            "tags": []
          },
          "execution_count": 45
        }
      ]
    },
    {
      "cell_type": "markdown",
      "metadata": {
        "id": "05uA6oWUjsVK"
      },
      "source": [
        "### Grid Search "
      ]
    },
    {
      "cell_type": "code",
      "metadata": {
        "id": "ou4iBe35jrvT"
      },
      "source": [
        "lb = [1,   9, 10**13.5, 10**11.5] # LT1 LT2 K1 K2\r\n",
        "ub = [3, 11, 10**14.5, 10**12.5]\r\n",
        "LB = [lb[0], lb[1], np.log10(lb[2]), np.log10(lb[3])]\r\n",
        "Range = [ub[0] - lb[0], ub[1] - lb[1] , np.log10(ub[2]) - np.log10(lb[2]), np.log10(ub[3]) - np.log10(lb[3])]\r\n",
        "\r\n",
        "prior = [st.uniform(LB[0], Range[0]) , st.uniform(LB[1],Range[1]), st.uniform(LB[2],Range[2]), \\\r\n",
        "         st.uniform(LB[3], Range[3])]\r\n",
        "\r\n",
        "n_grids = 20\r\n",
        "\r\n",
        "LT1_1Dgrid, LT1_stp = np.linspace(lb[0],ub[0], n_grids, retstep= True)\r\n",
        "LT2_1Dgrid, LT2_stp = np.linspace(lb[1],ub[1], n_grids, retstep= True)\r\n",
        "\r\n",
        "K1_1Dgrid, K1_stp = np.linspace(np.log10(lb[2]) , np.log10(ub[2]), n_grids, retstep=True)\r\n",
        "K2_1Dgrid, K2_stp = np.linspace(np.log10(lb[3]) , np.log10(ub[3]), n_grids, retstep=True)\r\n",
        "\r\n",
        "LT1_grid, LT2_grid, K1_grid, K2_grid  = np.meshgrid(LT1_1Dgrid , LT2_1Dgrid, K1_1Dgrid, K2_1Dgrid)\r\n",
        "\r\n",
        "X_grid = np.concatenate((LT1_grid.flat[:], LT2_grid.flat[:], 10**(K1_grid.flat[:]), 10**(K2_grid.flat[:]))).reshape(-1, LT1_grid.size)\r\n",
        "\r\n",
        "probs = np.zeros_like(LT1_grid)\r\n",
        "\r\n",
        "for i in range(LT1_grid.size):\r\n",
        "  \r\n",
        "  probs.flat[i] = 10**20*target(lik , y_obs, prior, MT_, X_grid[:,i])\r\n",
        "  if i%1000==0:\r\n",
        "    print(i)\r\n"
      ],
      "execution_count": null,
      "outputs": []
    },
    {
      "cell_type": "code",
      "metadata": {
        "colab": {
          "base_uri": "https://localhost:8080/",
          "height": 297
        },
        "id": "MPX2wZHNFYY9",
        "outputId": "026b29dd-623c-466b-b9c8-b19bd18dff95"
      },
      "source": [
        "probs[np.isnan(probs)] = 0\r\n",
        "probs_n = probs / probs.sum() / (LT1_stp * K1_stp *LT2_stp * K2_stp)\r\n",
        "\r\n",
        "plt.subplot(1,2,1)\r\n",
        "\r\n",
        "plt.contourf(LT1_1Dgrid, LT2_1Dgrid, probs_n.sum(axis = (2,3)))\r\n",
        "plt.xlabel('L1')\r\n",
        "plt.ylabel('L2')\r\n",
        "plt.xlim([1.75, 2.25])\r\n",
        "plt.ylim([9.75, 10.25])\r\n",
        "#plt.clim([0, 9])\r\n",
        "plt.colorbar()\r\n",
        "\r\n",
        "plt.subplot(1,2,2)\r\n",
        "\r\n",
        "plt.contourf(K1_1Dgrid, K2_1Dgrid, probs_n.sum(axis = (0,1)))\r\n",
        "plt.xlabel('log K1')\r\n",
        "plt.ylabel('log K2')\r\n",
        "plt.xlim([13.8, 14.2])\r\n",
        "plt.ylim([11.8, 12.2])\r\n",
        "#plt.clim([0, 9])\r\n",
        "plt.colorbar()\r\n",
        "\r\n",
        "plt.tight_layout()\r\n",
        "plt.show()"
      ],
      "execution_count": null,
      "outputs": [
        {
          "output_type": "display_data",
          "data": {
            "image/png": "[encoded data removed]",
            "text/plain": [
              "<Figure size 432x288 with 4 Axes>"
            ]
          },
          "metadata": {
            "tags": [],
            "needs_background": "light"
          }
        }
      ]
    },
    {
      "cell_type": "markdown",
      "metadata": {
        "id": "GlFtC-zQBAZP"
      },
      "source": [
        "### Performing an Optimization to Maximize a Priori"
      ]
    },
    {
      "cell_type": "code",
      "metadata": {
        "id": "rs71VI9nBGKQ"
      },
      "source": [
        "lb = [1,   5, 10**11, 10**11] # LT1 LT2 K1 K2\r\n",
        "ub = [10, 12, 10**15, 10**15]\r\n",
        "LB = [lb[0], lb[1], np.log10(lb[2]), np.log10(lb[3])]\r\n",
        "LB = np.array(LB)\r\n",
        "\r\n",
        "Range = [ub[0] - lb[0], ub[1] - lb[1] , np.log10(ub[2]) - np.log10(lb[2]), np.log10(ub[3]) - np.log10(lb[3])]\r\n",
        "Range = np.array(Range)\r\n",
        "UB = LB + Range \r\n",
        "\r\n",
        "prior = [st.uniform(LB[0], Range[0]) , st.uniform(LB[1],Range[1]), st.uniform(LB[2],Range[2]), \\\r\n",
        "         st.uniform(LB[3], Range[3])]\r\n",
        "\r\n",
        "def optfun(x, lik, MT, y_obs):\r\n",
        "  tmp = np.log10(target(lik, y_obs, prior, MT, x))\r\n",
        "  if ~np.isfinite(tmp):\r\n",
        "    tmp = - 1000\r\n",
        "  return -1 * tmp\r\n",
        "\r\n",
        "LB[2:] = 10**LB[2:]\r\n",
        "UB[2:] = 10**UB[2:]\r\n",
        "\r\n",
        "optfun_ = partial(optfun, lik = lik, MT = MT_, y_obs = y_obs)\r\n"
      ],
      "execution_count": null,
      "outputs": []
    },
    {
      "cell_type": "code",
      "metadata": {
        "id": "IlGwoUbrC8cW"
      },
      "source": [
        "ret = dual_annealing(func = optfun_, bounds = list(zip(LB,UB)), maxiter = 10000, seed=2442)"
      ],
      "execution_count": null,
      "outputs": []
    },
    {
      "cell_type": "code",
      "metadata": {
        "colab": {
          "base_uri": "https://localhost:8080/"
        },
        "id": "I-InHEh0Dezt",
        "outputId": "c4641c4f-57cb-44ba-b2d9-f4e999b4175b"
      },
      "source": [
        "print(ret.x)"
      ],
      "execution_count": null,
      "outputs": [
        {
          "output_type": "stream",
          "text": [
            "[5.29971046e+00 5.97388124e+00 2.93859527e+14 9.87618776e+14]\n"
          ],
          "name": "stdout"
        }
      ]
    },
    {
      "cell_type": "markdown",
      "metadata": {
        "id": "XPPeMIQIPS6R"
      },
      "source": [
        "### Improved Metropolis-Hastings with Automatic Selection of Step Size"
      ]
    },
    {
      "cell_type": "code",
      "metadata": {
        "id": "iJcidjEWr5ol"
      },
      "source": [
        "lb = [1,   1, 10**11, 10**11] # LT1 LT2 K1 K2\r\n",
        "ub = [100, 100, 10**15, 10**15]\r\n",
        "LB = [lb[0], lb[1], np.log10(lb[2]), np.log10(lb[3])]\r\n",
        "LB = np.array(LB)\r\n",
        "\r\n",
        "Range = [ub[0] - lb[0], ub[1] - lb[1] , np.log10(ub[2]) - np.log10(lb[2]), np.log10(ub[3]) - np.log10(lb[3])]\r\n",
        "Range = np.array(Range)\r\n",
        "UB = LB + Range \r\n",
        "\r\n",
        "prior = [st.uniform(LB[0], Range[0]) , st.uniform(LB[1],Range[1]), st.uniform(LB[2],Range[2]), \\\r\n",
        "         st.uniform(LB[3], Range[3])]\r\n",
        "\r\n",
        "\r\n",
        "naccept = 0\r\n",
        "\r\n",
        "x_0 = ret.x # initial guess \r\n",
        "\r\n",
        "\r\n",
        "niters = 100000\r\n",
        "samples = np.zeros((niters+1,x_0.size))\r\n",
        "samples[0,:] = x_0\r\n",
        "\r\n",
        "step = np.array([0.1 , 0.1, 0.02, 0.02]) # maximum step size for LT and log10(K), respectively  # initial\r\n",
        "\r\n",
        "NM = x_0.size # number of parameters \r\n",
        "PPR_target = (1/2)**(1/NM)\r\n",
        "\r\n",
        "PPR = [1, 1, 1, 1]\r\n",
        "\r\n",
        "RR_opt = 0.766 #optimal rejection rate\r\n",
        "\r\n",
        "\r\n",
        "for i in range(niters):\r\n",
        "    \r\n",
        "    # check for step-size\r\n",
        "    if (i > 0) & (i < 20000):\r\n",
        "      if (i < 1000 and (i % 100) == 0) or (i >= 1000 and (i % 1000) == 0):\r\n",
        "        tmp = target(lik, y_obs, prior, x_0)\r\n",
        "        for i in range(NM):\r\n",
        "          x_0_ = x_0\r\n",
        "          if i < NM/2:\r\n",
        "            x_0_[i] = x_0_[i] + 0.5 * step[i]\r\n",
        "            PPR[i] = tmp / target(lik, y_obs, prior, x_0_)\r\n",
        "          else:\r\n",
        "            x_0_[i] = 10**(np.log10(x_0_[i]) + 0.5 * step[i])\r\n",
        "            PPR[i] = tmp / target(lik, y_obs, prior, x_0_)\r\n",
        "        \r\n",
        "        for kk in range(len(PPR)):\r\n",
        "          if PPR[kk] > 1:\r\n",
        "            PPR[kk] = 1/PPR[kk]\r\n",
        "        \r\n",
        "        RR_ = (i - naccept) / i # current rejection rate\r\n",
        "        PPR_target = PPR_target * (RR_ / RR_opt)\r\n",
        "        if PPR_target < 1e-6:\r\n",
        "          PPR_target = 1e-6\r\n",
        "        PPR_diff = np.array(PPR_target) - np.array(PPR)\r\n",
        "        \r\n",
        "        j=-1\r\n",
        "        for ppr_d in PPR_diff:\r\n",
        "          j += 1\r\n",
        "          if ppr_d > 0:\r\n",
        "            step[j] = step[j] * np.exp((- ppr_d) /  PPR_target * 2)\r\n",
        "          else:\r\n",
        "            step[j] = step[j] * np.exp((- ppr_d) / (1 - PPR_target)*2)   \r\n",
        "          #print(step)\r\n",
        "          print(RR_)\r\n",
        "    if i==20000:\r\n",
        "      print('no more step updating!')\r\n",
        "    #updating parameters\r\n",
        "\r\n",
        "    x_p[:NM//2] = x_0[:NM//2] + step[:NM//2] * st.uniform(-1,2).rvs(NM//2)\r\n",
        "    x_p[NM//2:] = 10**(np.log10(x_0[NM//2:]) + step[NM//2:] * st.uniform(-1,2).rvs(NM//2))\r\n",
        "\r\n",
        "    #checking if parameters are within the range of prior uniform distribution\r\n",
        "    \r\n",
        "    tmp1 = x_p[:NM//2]\r\n",
        "    tmp2 = np.log10(x_p[NM//2:])\r\n",
        "    tmp1[tmp1<LB[:NM//2]] = 2*LB[tmp1<LB[:NM//2]] - tmp1[tmp1<LB[:NM//2]]\r\n",
        "    tmp1[tmp1>UB[:NM//2]] = 2*UB[tmp1>UB[:NM//2]] - tmp1[tmp1>UB[:NM//2]]\r\n",
        "    \r\n",
        "    tmp2[tmp2<np.log10(LB[NM//2:])] = 2*LB[tmp2<np.log10(LB[:NM//2+1])] - tmp2[tmp2<np.log10(LB[:NM//2+1])]\r\n",
        "    tmp2[tmp2>np.log10(UB[NM//2:])] = 2*UB[tmp2>np.log10(UB[:NM//2+1])] - tmp2[tmp2>np.log10(UB[:NM//2+1])]\r\n",
        " \r\n",
        "  \r\n",
        "    rho = min(1, target(lik, y_obs, prior, MT_, x_p)/target(lik, y_obs, prior, MT_, x_0))\r\n",
        "    u = np.random.uniform()\r\n",
        "    if u < rho:\r\n",
        "        naccept += 1\r\n",
        "        x_0 = x_p\r\n",
        "    del a \r\n",
        "    samples[0,i+1] = x_0\r\n",
        "\r\n",
        "print('done!')"
      ],
      "execution_count": null,
      "outputs": []
    },
    {
      "cell_type": "code",
      "metadata": {
        "id": "KCNUtKG2GCJR",
        "colab": {
          "base_uri": "https://localhost:8080/",
          "height": 530
        },
        "outputId": "81dbeaff-bb90-41b5-9cdc-a699b253eedf"
      },
      "source": [
        "plt.subplot(2,2,1)\r\n",
        "plt.plot(samples[20000:,0], 'g' , linewidth = 0.5)\r\n",
        "\r\n",
        "plt.subplot(2,2,2)\r\n",
        "plt.hist(samples[20000:,0],100, color='g')\r\n",
        "\r\n",
        "plt.subplot(2,2,3)\r\n",
        "plt.plot(np.log10(samples[20000:,1]),'b' , linewidth = 0.5) \r\n",
        "\r\n",
        "plt.subplot(2,2,4)\r\n",
        "plt.hist(samples[niters//2:,1],100 , color='b')\r\n",
        "\r\n",
        "plt.show()\r\n",
        "\r\n",
        "H, x_edge, y_edge = np.histogram2d(samples[20000:,0],np.log10(samples[20000:,1]),bins = 50, density=True)\r\n",
        "\r\n",
        "H = H / H.sum()\r\n",
        "H[H==0] = np.nan\r\n",
        "plt.contourf(x_edge[:-1], y_edge[:-1], H.T, cmap=\"viridis\")\r\n",
        "\r\n",
        "\r\n",
        "plt.colorbar()\r\n",
        "plt.show()"
      ],
      "execution_count": null,
      "outputs": [
        {
          "output_type": "display_data",
          "data": {
            "image/png": "[encoded data removed]",
            "text/plain": [
              "<Figure size 432x288 with 4 Axes>"
            ]
          },
          "metadata": {
            "tags": [],
            "needs_background": "light"
          }
        },
        {
          "output_type": "display_data",
          "data": {
            "image/png": "[encoded data removed]",
            "text/plain": [
              "<Figure size 432x288 with 2 Axes>"
            ]
          },
          "metadata": {
            "tags": [],
            "needs_background": "light"
          }
        }
      ]
    }
  ]
}